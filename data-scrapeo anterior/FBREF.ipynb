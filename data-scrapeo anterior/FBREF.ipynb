{
 "cells": [
  {
   "cell_type": "code",
   "execution_count": null,
   "metadata": {},
   "outputs": [],
   "source": [
    "import soccerdata as sd\n",
    "import pandas as pd\n",
    "\n",
    "# 🔹Cargar datos de las 5 grandes ligas europeas para la temporada 2024\n",
    "fbref = sd.FBref(leagues=\"Big 5 European Leagues Combined\", seasons=2024)\n",
    "\n",
    "# 🔹 Obtener estadísticas de los equipos por temporada\n",
    "team_season_stats = fbref.read_team_season_stats(stat_type=\"standard\")\n",
    "\n",
    "# 🔹 Restablecer el índice para convertir \"league\", \"season\" y \"team\" en columnas normales, sin agregar extra columnas\n",
    "team_season_stats = team_season_stats.reset_index(drop=False)\n",
    "\n",
    "# 🔹 Aplanar MultiIndex en columnas si es necesario\n",
    "team_season_stats.columns = ['_'.join(col).strip() if isinstance(col, tuple) else col for col in team_season_stats.columns]\n",
    "\n",
    "# 🔹 Eliminar la columna \"season_\"\n",
    "team_season_stats = team_season_stats.drop(columns=[\"season_\"], errors='ignore')\n",
    "\n",
    "# 🔹 Renombrar columnas:\n",
    "# - Eliminar el guion bajo final si lo tienen\n",
    "# - Eliminar los prefijos \"Playing Time_\" y \"Performance_\"\n",
    "team_season_stats.columns = [col.rstrip(\"_\").replace(\"Playing Time_\", \"\").replace(\"Performance_\", \"\") for col in team_season_stats.columns]\n",
    "\n",
    "# 🔹 Guardar en CSV con formato limpio\n",
    "csv_filename = \"team_season_stats_2024.csv\"\n",
    "team_season_stats.to_csv(csv_filename, index=False)\n",
    "\n",
    "print(f\"📂 Archivo guardado como {csv_filename}\")"
   ]
  }
 ],
 "metadata": {
  "kernelspec": {
   "display_name": "venv",
   "language": "python",
   "name": "python3"
  },
  "language_info": {
   "codemirror_mode": {
    "name": "ipython",
    "version": 3
   },
   "file_extension": ".py",
   "mimetype": "text/x-python",
   "name": "python",
   "nbconvert_exporter": "python",
   "pygments_lexer": "ipython3",
   "version": "3.12.4"
  }
 },
 "nbformat": 4,
 "nbformat_minor": 2
}
